{
 "cells": [
  {
   "cell_type": "code",
   "execution_count": 1,
   "metadata": {},
   "outputs": [
    {
     "name": "stdout",
     "output_type": "stream",
     "text": [
      "SDK_VERSION: 1.15.3\n",
      "ROBOT_IP: 192.168.1.242, VERSION: v2.4.0, PROTOCOL: V1, DETAIL: 7,7,XS1303,AC1300,v2.4.0, TYPE1300: [1, 1]\n",
      "change protocol identifier to 3\n"
     ]
    },
    {
     "name": "stdout",
     "output_type": "stream",
     "text": [
      "ControllerError, code: 1\n",
      "ControllerError had clean\n",
      "ControllerError, code: 23\n",
      "ControllerError had clean\n",
      "ControllerError, code: 1\n",
      "ControllerError had clean\n",
      "ControllerError, code: 35\n",
      "ControllerError had clean\n",
      "ControllerError, code: 35\n",
      "ControllerError had clean\n",
      "ControllerError, code: 1\n",
      "ControllerError had clean\n",
      "ControllerError, code: 31\n",
      "ControllerError had clean\n",
      "ControllerError, code: 35\n",
      "ControllerError had clean\n",
      "ControllerError, code: 35\n",
      "ControllerError had clean\n",
      "ControllerError, code: 35\n",
      "ControllerError had clean\n",
      "ControllerError, code: 35\n",
      "ControllerError had clean\n",
      "ControllerError, code: 1\n",
      "[SDK][ERROR][2025-07-08 19:28:49][base.py:1214] - - client timeout over 90s, disconnect\n"
     ]
    }
   ],
   "source": [
    "from xarm.wrapper import XArmAPI\n",
    "import math\n",
    "import numpy as np\n",
    "\n",
    "# Connect to the xArm\n",
    "arm = XArmAPI('192.168.1.242')  # Replace with the IP address of your xArm\n",
    "arm.connect()\n",
    "import time \n",
    "\n"
   ]
  },
  {
   "cell_type": "code",
   "execution_count": 86,
   "metadata": {},
   "outputs": [
    {
     "name": "stdout",
     "output_type": "stream",
     "text": [
      "[motion_enable], xArm is not ready to move\n",
      "[set_state], xArm is ready to move\n"
     ]
    },
    {
     "data": {
      "text/plain": [
       "0"
      ]
     },
     "execution_count": 86,
     "metadata": {},
     "output_type": "execute_result"
    }
   ],
   "source": [
    "# Ensure the arm is ready\n",
    "arm.motion_enable(enable=True)\n",
    "arm.set_mode(0)  # Set to position control mode\n",
    "arm.set_state(0)  # Set to ready state\n",
    "arm.set_gripper_enable(True)\n"
   ]
  },
  {
   "cell_type": "code",
   "execution_count": 85,
   "metadata": {},
   "outputs": [
    {
     "name": "stdout",
     "output_type": "stream",
     "text": [
      "[SDK][ERROR][2025-07-08 19:20:18][base.py:381] - - API -> set_position -> code=9, pos=[-25.4, 328.0, 277.3, -3.0665434957540367, -1.0821041362364843, -0.1308996938995747], radius=-1, velo=25.0, acc=2000\n",
      "(0, [444.221588, 308.236328, 324.503662, 144.640789, 25.280388, -0.50575])\n"
     ]
    }
   ],
   "source": [
    "# #home camera\n",
    "\n",
    "# initial configuration   x,y,z ,roll,putch,yaw\n",
    "arm.set_position(*[-25.4, 328, 277.3], *[-175.7, -62, -7.5], speed=25) #20 \n",
    "print(arm.get_position())"
   ]
  },
  {
   "cell_type": "code",
   "execution_count": null,
   "metadata": {},
   "outputs": [],
   "source": [
    "#top position\n",
    "# arm.set_position(*[179.7892730,-135.84366478,513.1884902 ], *[-115.670528,42.775524,-104.31090], speed=25) #20 \n",
    "# print(arm.get_position())"
   ]
  },
  {
   "cell_type": "code",
   "execution_count": 24,
   "metadata": {},
   "outputs": [
    {
     "data": {
      "text/plain": [
       "0"
      ]
     },
     "execution_count": 24,
     "metadata": {},
     "output_type": "execute_result"
    }
   ],
   "source": [
    "arm.set_gripper_position(500, wait=True)"
   ]
  },
  {
   "cell_type": "code",
   "execution_count": 88,
   "metadata": {},
   "outputs": [
    {
     "name": "stdout",
     "output_type": "stream",
     "text": [
      "Status: 0\n",
      "Actual position: [240.114288, 212.613983, 168.737686, 118.840729, 38.849747, 112.627173]\n"
     ]
    },
    {
     "name": "stdout",
     "output_type": "stream",
     "text": [
      "[SDK][ERROR][2025-07-08 19:27:15][base.py:168] - - [report-socket] socket read timeout\n"
     ]
    }
   ],
   "source": [
    "#pREGRASP \n",
    "target_euler = [118.84070341,  38.84976747, 112.62716955]\n",
    "\n",
    "# target_pos = [324, 64.7, 264]\n",
    "\n",
    "target_pos = [240.11377568 ,212.61372664 ,168.73753985]\n",
    "\n",
    "\n",
    "\n",
    "\n",
    "\n",
    "\n",
    "\n",
    "\n",
    "arm.set_position(*target_pos, *target_euler, speed=20, wait=True)\n",
    "\n",
    "# Get and print actual position\n",
    "status, actual_pos = arm.get_position()\n",
    "print(\"Status:\", status)\n",
    "print(\"Actual position:\", actual_pos)"
   ]
  },
  {
   "cell_type": "code",
   "execution_count": 228,
   "metadata": {},
   "outputs": [],
   "source": [
    "# arm.set_gripper_position(800, wait=True)\n",
    "# for pos in range(850, 499, -100):  # decrease from 800 to 500 in steps of 10\n",
    "#     arm.set_gripper_position(pos, wait=True)"
   ]
  },
  {
   "cell_type": "code",
   "execution_count": 18,
   "metadata": {},
   "outputs": [
    {
     "name": "stdout",
     "output_type": "stream",
     "text": [
      "Status: 0\n",
      "Actual position: [470.902893, 285.425323, 222.727692, -177.639949, 29.777075, -20.556351]\n"
     ]
    }
   ],
   "source": [
    "#GRASP \n",
    "target_pos = [470.90261396 ,285.4254492  ,222.72718038]\n",
    "\n",
    "\n",
    "# target_euler SAME AS ABOVE\n",
    "arm.set_position(*target_pos, *target_euler, speed=15, wait=True)\n",
    "\n",
    "# Get and print actual position\n",
    "status, actual_pos = arm.get_position()\n",
    "print(\"Status:\", status)\n",
    "print(\"Actual position:\", actual_pos)"
   ]
  },
  {
   "cell_type": "code",
   "execution_count": 26,
   "metadata": {},
   "outputs": [
    {
     "data": {
      "text/plain": [
       "0"
      ]
     },
     "execution_count": 26,
     "metadata": {},
     "output_type": "execute_result"
    }
   ],
   "source": [
    "arm.set_gripper_position(500, wait=True) #500mm"
   ]
  },
  {
   "cell_type": "code",
   "execution_count": 27,
   "metadata": {},
   "outputs": [
    {
     "name": "stdout",
     "output_type": "stream",
     "text": [
      "Status: 0\n",
      "Actual position: [268.760101, 393.868591, 254.025452, -178.927959, -58.737112, -31.867053]\n"
     ]
    }
   ],
   "source": [
    "#LIFT \n",
    "\n",
    "target_pos[2]+=150\n",
    "\n",
    "# target_euler SAME AS ABOVE\n",
    "arm.set_position(*target_pos, *target_euler, speed=10, wait=True)\n",
    "\n",
    "# Get and print actual position\n",
    "status, actual_pos = arm.get_position()\n",
    "print(\"Status:\", status)\n",
    "print(\"Actual position:\", actual_pos)"
   ]
  },
  {
   "cell_type": "code",
   "execution_count": 28,
   "metadata": {},
   "outputs": [
    {
     "data": {
      "text/plain": [
       "0"
      ]
     },
     "execution_count": 28,
     "metadata": {},
     "output_type": "execute_result"
    }
   ],
   "source": [
    "arm.set_gripper_position(800, wait=True)"
   ]
  },
  {
   "cell_type": "code",
   "execution_count": null,
   "metadata": {},
   "outputs": [],
   "source": [
    "\n",
    "\n",
    "# arm = XArmAPI('192.168.1.242', is_radian=True)\n",
    "# arm.motion_enable(enable=True)\n",
    "# arm.set_mode(0)\n",
    "# arm.set_state(state=0)\n",
    "\n",
    "# arm.move_gohome(wait=True)\n",
    "\n",
    "# speed = 20\n",
    "# arm.set_servo_angle(angle=[0, 0, 0, 0, 0, 0, 0], speed=speed, is_radian=False, wait=True)\n",
    "\n"
   ]
  },
  {
   "cell_type": "code",
   "execution_count": null,
   "metadata": {},
   "outputs": [],
   "source": [
    "# print(arm.get_servo_angle())"
   ]
  },
  {
   "cell_type": "code",
   "execution_count": null,
   "metadata": {},
   "outputs": [],
   "source": [
    "# grasp_pos = np.array([498.92127514, 65.91230631, 314])\n",
    "# grasp_euler = np.array([176.37002968, 3.26309353, -86.47086009])\n",
    "\n",
    "# arm.set_position(*grasp_pos, \n",
    "#                  *grasp_euler, speed=50, wait=True)\n",
    "\n",
    "# grasp_pos[-1] = 185\n",
    "# arm.set_position(*grasp_pos,\n",
    "#                     *grasp_euler, speed=50, wait=True)\n",
    "# # close the gripper\n",
    "# arm.set_gripper_position(430, wait=True)\n",
    "\n",
    "# # to waypoint\n",
    "# waypoint_pos = np.array([420.92127514, 150.91230631, 354])\n",
    "# waypoint_euler = np.array([176.37002968, 3.26309353, -86.47086009])\n",
    "\n",
    "# arm.set_position(*waypoint_pos, *waypoint_euler, speed=50, wait=True)\n",
    "\n",
    "# # waypoint to drop\n",
    "# drop_pos = np.array([358.92127514, 70.91230631, 185])\n",
    "# drop_euler = np.array([176.37002968, 3.26309353, -0.47086009])\n",
    "# arm.set_position(*drop_pos, *drop_euler, speed=50, wait=True)\n",
    "\n",
    "# # open the gripper\n",
    "# arm.set_gripper_position(800, wait=True)\n",
    "\n",
    "# # final pos\n",
    "# drop_pos[-1] = 354\n",
    "# arm.set_position(*waypoint_pos, *drop_euler, speed=50, wait=True)\n"
   ]
  },
  {
   "cell_type": "markdown",
   "metadata": {},
   "source": [
    "### Grasp 2"
   ]
  },
  {
   "cell_type": "code",
   "execution_count": null,
   "metadata": {},
   "outputs": [],
   "source": [
    "# grasp_pos = np.array([457.8897953, 286.62869334, 314.0])\n",
    "# grasp_euler = np.array([178.49681659, -8.62070876, -112.92937278])   #euler xyz\n",
    "\n",
    "# arm.set_position(*grasp_pos, \n",
    "#                  *grasp_euler, speed=50, wait=True)\n",
    "\n",
    "# grasp_pos[-1] = 185\n",
    "# arm.set_position(*grasp_pos,\n",
    "#                     *grasp_euler, speed=50, wait=True)\n",
    "\n",
    "# # close the gripper\n",
    "# arm.set_gripper_position(430, wait=True)\n",
    "\n",
    "# # to waypoint\n",
    "# waypoint_pos = np.array([420.92127514, 150.91230631, 354])\n",
    "# waypoint_euler = np.array([176.37002968, 3.26309353, -86.47086009])\n",
    "\n",
    "# arm.set_position(*waypoint_pos, *waypoint_euler, speed=50, wait=True)\n",
    "\n",
    "# # waypoint to drop\n",
    "# drop_pos = np.array([420.92127514, 150.91230631, 185])\n",
    "# drop_euler = np.array([176.37002968, 3.26309353, -86.47086009])\n",
    "# arm.set_position(*drop_pos, *drop_euler, speed=50, wait=True)\n",
    "\n",
    "# # open the gripper\n",
    "# arm.set_gripper_position(800, wait=True)\n",
    "\n",
    "# time.sleep(1)\n",
    "\n",
    "# # final pos\n",
    "# drop_pos[-1] = 354\n",
    "# arm.set_position(*waypoint_pos, *drop_euler, speed=50, wait=True)\n"
   ]
  },
  {
   "cell_type": "markdown",
   "metadata": {},
   "source": [
    "### Grasp 3"
   ]
  },
  {
   "cell_type": "code",
   "execution_count": null,
   "metadata": {},
   "outputs": [],
   "source": []
  },
  {
   "cell_type": "code",
   "execution_count": null,
   "metadata": {},
   "outputs": [],
   "source": []
  }
 ],
 "metadata": {
  "kernelspec": {
   "display_name": "work",
   "language": "python",
   "name": "python3"
  },
  "language_info": {
   "codemirror_mode": {
    "name": "ipython",
    "version": 3
   },
   "file_extension": ".py",
   "mimetype": "text/x-python",
   "name": "python",
   "nbconvert_exporter": "python",
   "pygments_lexer": "ipython3",
   "version": "3.10.16"
  },
  "orig_nbformat": 4
 },
 "nbformat": 4,
 "nbformat_minor": 2
}
