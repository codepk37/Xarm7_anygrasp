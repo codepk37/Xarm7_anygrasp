{
 "cells": [
  {
   "cell_type": "code",
   "execution_count": 3,
   "metadata": {},
   "outputs": [
    {
     "name": "stdout",
     "output_type": "stream",
     "text": [
      "ROBOT_IP: 192.168.1.242, VERSION: v2.4.0, PROTOCOL: V1, DETAIL: 7,7,XS1303,AC1300,v2.4.0, TYPE1300: [1, 1]\n",
      "change protocol identifier to 3\n"
     ]
    }
   ],
   "source": [
    "from xarm.wrapper import XArmAPI\n",
    "import math\n",
    "import numpy as np\n",
    "\n",
    "# Connect to the xArm\n",
    "arm = XArmAPI('192.168.1.242')  # Replace with the IP address of your xArm\n",
    "arm.connect()\n",
    "import time \n",
    "\n"
   ]
  },
  {
   "cell_type": "code",
   "execution_count": 19,
   "metadata": {},
   "outputs": [
    {
     "name": "stdout",
     "output_type": "stream",
     "text": [
      "[motion_enable], xArm is not ready to move\n",
      "[set_state], xArm is ready to move\n"
     ]
    },
    {
     "data": {
      "text/plain": [
       "0"
      ]
     },
     "execution_count": 19,
     "metadata": {},
     "output_type": "execute_result"
    }
   ],
   "source": [
    "# Ensure the arm is ready\n",
    "arm.motion_enable(enable=True)\n",
    "arm.set_mode(0)  # Set to position control mode\n",
    "arm.set_state(0)  # Set to ready state\n",
    "# arm.set_gripper_enable(True)\n"
   ]
  },
  {
   "cell_type": "code",
   "execution_count": 20,
   "metadata": {},
   "outputs": [
    {
     "name": "stdout",
     "output_type": "stream",
     "text": [
      "(0, [174.549973, 9.938677, 178.48053, 179.880272, -4.693785, 1.31236])\n"
     ]
    }
   ],
   "source": [
    "# initial configuration\n",
    "# arm.set_position(*[-7, 74.9, 571.3], *[175, -40.5, 12.1], speed=10) #20\n",
    "arm.set_position(*[-7, 74.9, 571.3], *[175, -40.5, 12.1], speed=10) #20\n",
    "print(arm.get_position())"
   ]
  },
  {
   "cell_type": "code",
   "execution_count": 23,
   "metadata": {},
   "outputs": [
    {
     "name": "stdout",
     "output_type": "stream",
     "text": [
      "[SDK][ERROR][2025-06-26 19:03:17][base.py:381] - - API -> set_position -> code=1, pos=[200.0, 0.0, 150.0, 3.141592653589793, 0.0, 0.0], radius=-1, velo=10.0, acc=2000\n",
      "Status: 0\n",
      "Actual position: [169.847763, 11.614867, 188.617981, 179.847269, -5.624326, 1.535412]\n"
     ]
    }
   ],
   "source": [
    "target_pos = [200, 0, 150]\n",
    "target_euler = [180, 0, 0]\n",
    "arm.set_position(*target_pos, *target_euler, speed=10, wait=True)\n",
    "\n",
    "# Get and print actual position\n",
    "status, actual_pos = arm.get_position()\n",
    "print(\"Status:\", status)\n",
    "print(\"Actual position:\", actual_pos)"
   ]
  },
  {
   "cell_type": "code",
   "execution_count": 26,
   "metadata": {},
   "outputs": [
    {
     "name": "stdout",
     "output_type": "stream",
     "text": [
      "ROBOT_IP: 192.168.1.242, VERSION: v2.4.0, PROTOCOL: V1, DETAIL: 7,7,XS1303,AC1300,v2.4.0, TYPE1300: [1, 1]\n",
      "change protocol identifier to 3\n",
      "ControllerError, code: 1\n",
      "[motion_enable], xArm is not ready to move\n",
      "[set_state], xArm is ready to move\n",
      "[SDK][ERROR][2025-06-26 19:11:26][base.py:381] - - wait_feedback, xarm has error, error=1\n"
     ]
    },
    {
     "data": {
      "text/plain": [
       "0"
      ]
     },
     "execution_count": 26,
     "metadata": {},
     "output_type": "execute_result"
    }
   ],
   "source": [
    "\n",
    "\n",
    "arm = XArmAPI('192.168.1.242', is_radian=True)\n",
    "arm.motion_enable(enable=True)\n",
    "arm.set_mode(0)\n",
    "arm.set_state(state=0)\n",
    "\n",
    "arm.move_gohome(wait=True)\n",
    "\n",
    "speed = 20\n",
    "arm.set_servo_angle(angle=[0, 0, 0, 0, 0, 0, 0], speed=speed, is_radian=False, wait=True)\n",
    "\n"
   ]
  },
  {
   "cell_type": "code",
   "execution_count": 28,
   "metadata": {},
   "outputs": [
    {
     "name": "stdout",
     "output_type": "stream",
     "text": [
      "(0, [0.0, 0.0, -0.0, 0.0, 0.0, 0.0, 0.0])\n"
     ]
    },
    {
     "name": "stdout",
     "output_type": "stream",
     "text": [
      "[SDK][ERROR][2025-06-26 19:17:51][base.py:168] - - [report-socket] socket read timeout\n",
      "[SDK][ERROR][2025-06-26 19:17:51][base.py:168] - - [report-socket] socket read timeout\n",
      "[SDK][ERROR][2025-06-26 19:17:51][base.py:168] - - [report-socket] socket read timeout\n"
     ]
    }
   ],
   "source": [
    "print(arm.get_servo_angle())"
   ]
  },
  {
   "cell_type": "code",
   "execution_count": 17,
   "metadata": {},
   "outputs": [
    {
     "name": "stdout",
     "output_type": "stream",
     "text": [
      "[SDK][ERROR][2025-06-26 18:51:37][base.py:381] - - API -> set_position -> code=1, pos=[498.92127514, 65.91230631, 314.0, 3.0782377197561206, 0.056951725899024364, -1.5092012156018604], radius=-1, velo=50.0, acc=2000\n",
      "[SDK][ERROR][2025-06-26 18:51:37][base.py:381] - - API -> set_position -> code=1, pos=[498.92127514, 65.91230631, 185.0, 3.0782377197561206, 0.056951725899024364, -1.5092012156018604], radius=-1, velo=50.0, acc=2000\n",
      "[SDK][ERROR][2025-06-26 18:51:37][base.py:381] - - wait_move, xarm has error, error=22\n",
      "[SDK][ERROR][2025-06-26 18:51:37][base.py:381] - - API -> set_modbus_gripper_position(pos=430) -> code=1\n",
      "[SDK][ERROR][2025-06-26 18:51:37][base.py:381] - - API -> set_position -> code=1, pos=[420.92127514, 150.91230631, 354.0, 3.0782377197561206, 0.056951725899024364, -1.5092012156018604], radius=-1, velo=50.0, acc=2000\n",
      "[SDK][ERROR][2025-06-26 18:51:37][base.py:381] - - API -> set_position -> code=1, pos=[358.92127514, 70.91230631, 185.0, 3.0782377197561206, 0.056951725899024364, -0.008218058886736827], radius=-1, velo=50.0, acc=2000\n",
      "[SDK][ERROR][2025-06-26 18:51:37][base.py:381] - - wait_move, xarm has error, error=19\n",
      "[SDK][ERROR][2025-06-26 18:51:37][base.py:381] - - API -> set_modbus_gripper_position(pos=800) -> code=1\n",
      "[SDK][ERROR][2025-06-26 18:51:38][base.py:381] - - API -> set_position -> code=1, pos=[420.92127514, 150.91230631, 354.0, 3.0782377197561206, 0.056951725899024364, -0.008218058886736827], radius=-1, velo=50.0, acc=2000\n"
     ]
    },
    {
     "data": {
      "text/plain": [
       "1"
      ]
     },
     "execution_count": 17,
     "metadata": {},
     "output_type": "execute_result"
    }
   ],
   "source": [
    "grasp_pos = np.array([498.92127514, 65.91230631, 314])\n",
    "grasp_euler = np.array([176.37002968, 3.26309353, -86.47086009])\n",
    "\n",
    "arm.set_position(*grasp_pos, \n",
    "                 *grasp_euler, speed=50, wait=True)\n",
    "\n",
    "grasp_pos[-1] = 185\n",
    "arm.set_position(*grasp_pos,\n",
    "                    *grasp_euler, speed=50, wait=True)\n",
    "# close the gripper\n",
    "arm.set_gripper_position(430, wait=True)\n",
    "\n",
    "# to waypoint\n",
    "waypoint_pos = np.array([420.92127514, 150.91230631, 354])\n",
    "waypoint_euler = np.array([176.37002968, 3.26309353, -86.47086009])\n",
    "\n",
    "arm.set_position(*waypoint_pos, *waypoint_euler, speed=50, wait=True)\n",
    "\n",
    "# waypoint to drop\n",
    "drop_pos = np.array([358.92127514, 70.91230631, 185])\n",
    "drop_euler = np.array([176.37002968, 3.26309353, -0.47086009])\n",
    "arm.set_position(*drop_pos, *drop_euler, speed=50, wait=True)\n",
    "\n",
    "# open the gripper\n",
    "arm.set_gripper_position(800, wait=True)\n",
    "\n",
    "# final pos\n",
    "drop_pos[-1] = 354\n",
    "arm.set_position(*waypoint_pos, *drop_euler, speed=50, wait=True)\n"
   ]
  },
  {
   "cell_type": "markdown",
   "metadata": {},
   "source": [
    "### Grasp 2"
   ]
  },
  {
   "cell_type": "code",
   "execution_count": 28,
   "metadata": {},
   "outputs": [
    {
     "data": {
      "text/plain": [
       "0"
      ]
     },
     "execution_count": 28,
     "metadata": {},
     "output_type": "execute_result"
    }
   ],
   "source": [
    "grasp_pos = np.array([457.8897953, 286.62869334, 314.0])\n",
    "grasp_euler = np.array([178.49681659, -8.62070876, -112.92937278])   #euler xyz\n",
    "\n",
    "arm.set_position(*grasp_pos, \n",
    "                 *grasp_euler, speed=50, wait=True)\n",
    "\n",
    "grasp_pos[-1] = 185\n",
    "arm.set_position(*grasp_pos,\n",
    "                    *grasp_euler, speed=50, wait=True)\n",
    "\n",
    "# close the gripper\n",
    "arm.set_gripper_position(430, wait=True)\n",
    "\n",
    "# to waypoint\n",
    "waypoint_pos = np.array([420.92127514, 150.91230631, 354])\n",
    "waypoint_euler = np.array([176.37002968, 3.26309353, -86.47086009])\n",
    "\n",
    "arm.set_position(*waypoint_pos, *waypoint_euler, speed=50, wait=True)\n",
    "\n",
    "# waypoint to drop\n",
    "drop_pos = np.array([420.92127514, 150.91230631, 185])\n",
    "drop_euler = np.array([176.37002968, 3.26309353, -86.47086009])\n",
    "arm.set_position(*drop_pos, *drop_euler, speed=50, wait=True)\n",
    "\n",
    "# open the gripper\n",
    "arm.set_gripper_position(800, wait=True)\n",
    "\n",
    "time.sleep(1)\n",
    "\n",
    "# final pos\n",
    "drop_pos[-1] = 354\n",
    "arm.set_position(*waypoint_pos, *drop_euler, speed=50, wait=True)\n"
   ]
  },
  {
   "cell_type": "markdown",
   "metadata": {},
   "source": [
    "### Grasp 3"
   ]
  },
  {
   "cell_type": "code",
   "execution_count": 45,
   "metadata": {},
   "outputs": [
    {
     "data": {
      "text/plain": [
       "0"
      ]
     },
     "execution_count": 45,
     "metadata": {},
     "output_type": "execute_result"
    }
   ],
   "source": [
    "grasp_pos = np.array([457.8897953, 286.62869334, 314.0])\n",
    "grasp_euler = np.array([178.49681659, -8.62070876, -112.92937278])\n",
    "\n",
    "arm.set_position(*grasp_pos, \n",
    "                 *grasp_euler, speed=50, wait=True)\n",
    "\n",
    "grasp_pos[-1] = 185\n",
    "arm.set_position(*grasp_pos,\n",
    "                    *grasp_euler, speed=50, wait=True)\n",
    "\n",
    "# close the gripper\n",
    "arm.set_gripper_position(430, wait=True)\n",
    "\n",
    "# to waypoint\n",
    "waypoint_pos = np.array([420.92127514, 150.91230631, 424])\n",
    "waypoint_euler = np.array([176.37002968, 3.26309353, -86.47086009])\n",
    "\n",
    "arm.set_position(*waypoint_pos, *waypoint_euler, speed=50, wait=True)\n",
    "\n",
    "# waypoint to drop\n",
    "drop_pos = np.array([498.92127514, 65.91230631, 280])\n",
    "drop_euler = np.array([176.37002968, 3.26309353, -86.47086009])\n",
    "arm.set_position(*drop_pos, *drop_euler, speed=30, wait=True)\n",
    "\n",
    "# open the gripper\n",
    "arm.set_gripper_position(800, wait=True)\n",
    "\n",
    "time.sleep(1)\n",
    "\n",
    "# final pos\n",
    "drop_pos[-1] = 354\n",
    "arm.set_position(*drop_pos, *drop_euler, speed=50, wait=True)\n"
   ]
  },
  {
   "cell_type": "code",
   "execution_count": 18,
   "metadata": {},
   "outputs": [
    {
     "data": {
      "text/plain": [
       "0"
      ]
     },
     "execution_count": 18,
     "metadata": {},
     "output_type": "execute_result"
    }
   ],
   "source": [
    "arm.set_position(*[498.92127514, 65.91230631, 185], \n",
    "                 *[176.37002968, 3.26309353, -86.47086009], speed=30)"
   ]
  },
  {
   "cell_type": "code",
   "execution_count": 24,
   "metadata": {},
   "outputs": [
    {
     "data": {
      "text/plain": [
       "0"
      ]
     },
     "execution_count": 24,
     "metadata": {},
     "output_type": "execute_result"
    }
   ],
   "source": [
    "arm.set_position(*[452.54, 154.37, 183], *[-177.92, -3.89, -37], speed=30)"
   ]
  },
  {
   "cell_type": "code",
   "execution_count": 26,
   "metadata": {},
   "outputs": [
    {
     "data": {
      "text/plain": [
       "0"
      ]
     },
     "execution_count": 26,
     "metadata": {},
     "output_type": "execute_result"
    }
   ],
   "source": [
    "arm.set_gripper_position(750, wait=True)"
   ]
  },
  {
   "cell_type": "code",
   "execution_count": 8,
   "metadata": {},
   "outputs": [],
   "source": [
    "initial = [-7, 74.9, 571.3, 175, -40.5, 12.1]"
   ]
  },
  {
   "cell_type": "code",
   "execution_count": 22,
   "metadata": {},
   "outputs": [
    {
     "data": {
      "text/plain": [
       "0"
      ]
     },
     "execution_count": 22,
     "metadata": {},
     "output_type": "execute_result"
    }
   ],
   "source": []
  },
  {
   "cell_type": "code",
   "execution_count": null,
   "metadata": {},
   "outputs": [],
   "source": []
  }
 ],
 "metadata": {
  "kernelspec": {
   "display_name": "work",
   "language": "python",
   "name": "python3"
  },
  "language_info": {
   "codemirror_mode": {
    "name": "ipython",
    "version": 3
   },
   "file_extension": ".py",
   "mimetype": "text/x-python",
   "name": "python",
   "nbconvert_exporter": "python",
   "pygments_lexer": "ipython3",
   "version": "3.10.16"
  },
  "orig_nbformat": 4
 },
 "nbformat": 4,
 "nbformat_minor": 2
}
